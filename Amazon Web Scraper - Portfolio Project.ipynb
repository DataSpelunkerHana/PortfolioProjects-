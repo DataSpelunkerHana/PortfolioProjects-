{
 "cells": [
  {
   "cell_type": "code",
   "execution_count": 48,
   "id": "bd260af9",
   "metadata": {},
   "outputs": [],
   "source": [
    "#import libraries\n",
    "\n",
    "from bs4 import BeautifulSoup\n",
    "import requests\n",
    "import time\n",
    "import datetime\n",
    "\n",
    "import smtplib\n"
   ]
  },
  {
   "cell_type": "code",
   "execution_count": 49,
   "id": "2e3d0027",
   "metadata": {},
   "outputs": [
    {
     "name": "stdout",
     "output_type": "stream",
     "text": [
      "\n",
      "                   Amazon Brand - Symbol Men's Regular Polo Shirt\n",
      "                  \n",
      "\n",
      "                  ₹309\n",
      "                 \n"
     ]
    }
   ],
   "source": [
    "#Connect to the Website and pull in the data\n",
    "\n",
    "# URL='https://www.amazon.com/Funny-Data-Systems-Business-Analyst/dp/B07FNW9FGJ'\n",
    "URL='https://www.amazon.in/Amazon-Brand-Symbol-Regular-AW17MPCP1_XL_Jet/dp/B073X33F5X?ref_=Oct_d_orecs_d_1968120031_3&pd_rd_w=wxNO5&content-id=amzn1.sym.661fd306-a02b-4014-8ce2-6f8c33e17dbc&pf_rd_p=661fd306-a02b-4014-8ce2-6f8c33e17dbc&pf_rd_r=K56NT6R50TG5DT7AQN1Q&pd_rd_wg=gg8fP&pd_rd_r=7fc2bd68-1398-471b-81cd-e310f54f6d95&pd_rd_i=B073X33F5X'\n",
    "\n",
    "headers={\"User-Agent\": \"Mozilla/5.0 (Windows NT 10.0; Win64; x64) AppleWebKit/537.36 (KHTML, like Gecko) Chrome/108.0.0.0 Safari/537.36\",\"Accept\": \"text/html,application/xhtml+xml,application/xml;q=0.9,image/avif,image/webp,image/apng,*/*;q=0.8,application/signed-exchange;v=b3;q=0.9\", \n",
    "    \"Accept-Encoding\": \"gzip, deflate\", \n",
    "    \"Accept-Language\": \"en-US,en;q=0.9\",\n",
    "         \"Connection\":\"close\",\n",
    "        \"Upgrade-Insecure-Requests\": \"1\" }\n",
    "\n",
    "page=requests.get(URL, headers=headers)\n",
    "\n",
    "soup1=BeautifulSoup(page.content, 'html.parser')\n",
    "\n",
    "soup2=BeautifulSoup(soup1.prettify(), 'html.parser')\n",
    "\n",
    "title=soup2.find(id='productTitle').get_text()\n",
    "\n",
    "price =soup2.find('span', class_='a-offscreen').get_text()\n",
    "\n",
    "# price1 =soup2.find('span', class_='a-price-whole').get_text()\n",
    "\n",
    "\n",
    "print(title)\n",
    "print(price)\n",
    "\n",
    "\n"
   ]
  },
  {
   "cell_type": "code",
   "execution_count": 50,
   "id": "9190e9c3",
   "metadata": {},
   "outputs": [
    {
     "name": "stdout",
     "output_type": "stream",
     "text": [
      "Amazon Brand - Symbol Men's Regular Polo Shirt\n",
      "309\n"
     ]
    },
    {
     "data": {
      "text/plain": [
       "str"
      ]
     },
     "execution_count": 50,
     "metadata": {},
     "output_type": "execute_result"
    }
   ],
   "source": [
    "# Clean up the data \n",
    "\n",
    "\n",
    "price=price.strip()[1:]\n",
    "title=title.strip()\n",
    "\n",
    "\n",
    "print(title)\n",
    "print(price)\n",
    "type(price)"
   ]
  },
  {
   "cell_type": "code",
   "execution_count": 51,
   "id": "a7806cdf",
   "metadata": {},
   "outputs": [
    {
     "name": "stdout",
     "output_type": "stream",
     "text": [
      "2023-03-19\n"
     ]
    }
   ],
   "source": [
    "# Create a Timestamp for your output to track when data was collected\n",
    "\n",
    "\n",
    "import datetime \n",
    "\n",
    "today=datetime.date.today()\n",
    "\n",
    "print(today)"
   ]
  },
  {
   "cell_type": "code",
   "execution_count": 52,
   "id": "10c87925",
   "metadata": {},
   "outputs": [],
   "source": [
    "# Create CSV and write headers and data into the file\n",
    "\n",
    "\n",
    "import csv\n",
    "header = ['Title', 'Price','Date']\n",
    "data = [title,price,today]\n",
    "\n",
    "#type(data)\n",
    "\n",
    "with open('AmazonWebScraperDataSet.csv','w', newline='', encoding='UTF8') as f:\n",
    "    writer=csv.writer(f)\n",
    "    writer.writerow(header)\n",
    "    writer.writerow(data)\n",
    "    "
   ]
  },
  {
   "cell_type": "code",
   "execution_count": 59,
   "id": "93b3ef7a",
   "metadata": {},
   "outputs": [
    {
     "name": "stdout",
     "output_type": "stream",
     "text": [
      "                                            Title  Price        Date\n",
      "0  Amazon Brand - Symbol Men's Regular Polo Shirt    309  2023-03-19\n",
      "1  Amazon Brand - Symbol Men's Regular Polo Shirt    309  2023-03-19\n",
      "2  Amazon Brand - Symbol Men's Regular Polo Shirt    309  2023-03-19\n",
      "3  Amazon Brand - Symbol Men's Regular Polo Shirt    309  2023-03-19\n"
     ]
    }
   ],
   "source": [
    "import pandas as pd\n",
    "df=pd.read_csv('AmazonWebScraperDataSet.csv')\n",
    "print(df)\n"
   ]
  },
  {
   "cell_type": "code",
   "execution_count": 58,
   "id": "2d0abc74",
   "metadata": {},
   "outputs": [],
   "source": [
    "#Now we are appending data to the csv\n",
    "\n",
    "\n",
    "with open('AmazonWebScraperDataSet.csv','a+', newline='', encoding='UTF8') as f:\n",
    "    writer=csv.writer(f)\n",
    "    writer.writerow(data)\n",
    "    "
   ]
  },
  {
   "cell_type": "code",
   "execution_count": 60,
   "id": "695055a0",
   "metadata": {},
   "outputs": [],
   "source": [
    "#Combine all of the above code into one function\n",
    "\n",
    "def check_price():\n",
    "    \n",
    "    URL='https://www.amazon.in/Amazon-Brand-Symbol-Regular-AW17MPCP1_XL_Jet/dp/B073X33F5X?ref_=Oct_d_orecs_d_1968120031_3&pd_rd_w=wxNO5&content-id=amzn1.sym.661fd306-a02b-4014-8ce2-6f8c33e17dbc&pf_rd_p=661fd306-a02b-4014-8ce2-6f8c33e17dbc&pf_rd_r=K56NT6R50TG5DT7AQN1Q&pd_rd_wg=gg8fP&pd_rd_r=7fc2bd68-1398-471b-81cd-e310f54f6d95&pd_rd_i=B073X33F5X'\n",
    "\n",
    "\n",
    "    headers={\"User-Agent\": \"Mozilla/5.0 (Windows NT 10.0; Win64; x64) AppleWebKit/537.36 (KHTML, like Gecko) Chrome/108.0.0.0 Safari/537.36\",\"Accept\": \"text/html,application/xhtml+xml,application/xml;q=0.9,image/avif,image/webp,image/apng,*/*;q=0.8,application/signed-exchange;v=b3;q=0.9\", \n",
    "    \"Accept-Encoding\": \"gzip, deflate\", \n",
    "    \"Accept-Language\": \"en-US,en;q=0.9\",\n",
    "         \"Connection\":\"close\",\n",
    "        \"Upgrade-Insecure-Requests\": \"1\" }\n",
    "\n",
    "    page=requests.get(URL, headers=headers)\n",
    "\n",
    "    soup1=BeautifulSoup(page.content, 'html.parser')\n",
    "    \n",
    "    soup2=BeautifulSoup(soup1.prettify(), 'html.parser')\n",
    "\n",
    "    title=soup2.find(id='productTitle').get_text()\n",
    "\n",
    "    price =soup2.find('span', class_='a-offscreen').get_text()\n",
    "\n",
    "\n",
    "\n",
    "    price=price.strip()[1:]\n",
    "    title=title.strip()\n",
    "    \n",
    "    import datetime \n",
    "\n",
    "    today=datetime.date.today()\n",
    "\n",
    "    \n",
    "    import csv\n",
    "    \n",
    "    header = ['Title', 'Price','Date']\n",
    "    \n",
    "    data = [title,price,today]\n",
    "\n",
    "    \n",
    "    with open('AmazonWebScraperDataSet.csv','a+', newline='', encoding='UTF8') as f:\n",
    "         writer=csv.writer(f)\n",
    "         writer.writerow(data)\n",
    "    \n",
    "        "
   ]
  },
  {
   "cell_type": "code",
   "execution_count": null,
   "id": "b57d7307",
   "metadata": {},
   "outputs": [],
   "source": [
    "# Runs check_price after a set time and inputs data into your CSV\n",
    "\n",
    "while(True):\n",
    "    check_price()\n",
    "    time.sleep(86400)"
   ]
  },
  {
   "cell_type": "code",
   "execution_count": 1,
   "id": "120f97fa",
   "metadata": {},
   "outputs": [
    {
     "name": "stdout",
     "output_type": "stream",
     "text": [
      "                                            Title  Price        Date\n",
      "0  Amazon Brand - Symbol Men's Regular Polo Shirt  309.0  2023-03-19\n",
      "1  Amazon Brand - Symbol Men's Regular Polo Shirt  309.0  2023-03-19\n",
      "2  Amazon Brand - Symbol Men's Regular Polo Shirt  309.0  2023-03-19\n",
      "3  Amazon Brand - Symbol Men's Regular Polo Shirt  309.0  2023-03-19\n",
      "4  Amazon Brand - Symbol Men's Regular Polo Shirt  309.0  2023-03-19\n",
      "5  Amazon Brand - Symbol Men's Regular Polo Shirt  309.0  2023-03-19\n",
      "6  Amazon Brand - Symbol Men's Regular Polo Shirt  309.0  2023-03-19\n",
      "7  Amazon Brand - Symbol Men's Regular Polo Shirt  309.0  2023-03-19\n"
     ]
    }
   ],
   "source": [
    "import pandas as pd\n",
    "df = pd.read_csv('AmazonWebScraperDataSet.csv')\n",
    "print(df)"
   ]
  },
  {
   "cell_type": "code",
   "execution_count": null,
   "id": "b13cc1e4",
   "metadata": {},
   "outputs": [],
   "source": [
    "print(df)"
   ]
  },
  {
   "cell_type": "code",
   "execution_count": null,
   "id": "d5f59ec2",
   "metadata": {},
   "outputs": [],
   "source": []
  }
 ],
 "metadata": {
  "kernelspec": {
   "display_name": "Python 3 (ipykernel)",
   "language": "python",
   "name": "python3"
  },
  "language_info": {
   "codemirror_mode": {
    "name": "ipython",
    "version": 3
   },
   "file_extension": ".py",
   "mimetype": "text/x-python",
   "name": "python",
   "nbconvert_exporter": "python",
   "pygments_lexer": "ipython3",
   "version": "3.9.12"
  }
 },
 "nbformat": 4,
 "nbformat_minor": 5
}
